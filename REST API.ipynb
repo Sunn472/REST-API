{
  "nbformat": 4,
  "nbformat_minor": 0,
  "metadata": {
    "colab": {
      "provenance": []
    },
    "kernelspec": {
      "name": "python3",
      "display_name": "Python 3"
    },
    "language_info": {
      "name": "python"
    }
  },
  "cells": [
    {
      "cell_type": "code",
      "source": [
        "!pip install flask"
      ],
      "metadata": {
        "colab": {
          "base_uri": "https://localhost:8080/"
        },
        "id": "t1cRGaNvvnMK",
        "outputId": "776aed9b-66a3-4948-ebc2-4b3ca3f187ec"
      },
      "execution_count": 2,
      "outputs": [
        {
          "output_type": "stream",
          "name": "stdout",
          "text": [
            "Requirement already satisfied: flask in /usr/local/lib/python3.11/dist-packages (3.1.0)\n",
            "Requirement already satisfied: Werkzeug>=3.1 in /usr/local/lib/python3.11/dist-packages (from flask) (3.1.3)\n",
            "Requirement already satisfied: Jinja2>=3.1.2 in /usr/local/lib/python3.11/dist-packages (from flask) (3.1.6)\n",
            "Requirement already satisfied: itsdangerous>=2.2 in /usr/local/lib/python3.11/dist-packages (from flask) (2.2.0)\n",
            "Requirement already satisfied: click>=8.1.3 in /usr/local/lib/python3.11/dist-packages (from flask) (8.1.8)\n",
            "Requirement already satisfied: blinker>=1.9 in /usr/local/lib/python3.11/dist-packages (from flask) (1.9.0)\n",
            "Requirement already satisfied: MarkupSafe>=2.0 in /usr/local/lib/python3.11/dist-packages (from Jinja2>=3.1.2->flask) (3.0.2)\n"
          ]
        }
      ]
    },
    {
      "cell_type": "code",
      "source": [
        "!pip install flask_ngrok"
      ],
      "metadata": {
        "colab": {
          "base_uri": "https://localhost:8080/"
        },
        "id": "LXxWtd6Bvtfm",
        "outputId": "53193cfb-fda3-4c10-d35d-7e1638eaaddb"
      },
      "execution_count": 3,
      "outputs": [
        {
          "output_type": "stream",
          "name": "stdout",
          "text": [
            "Collecting flask_ngrok\n",
            "  Downloading flask_ngrok-0.0.25-py3-none-any.whl.metadata (1.8 kB)\n",
            "Requirement already satisfied: Flask>=0.8 in /usr/local/lib/python3.11/dist-packages (from flask_ngrok) (3.1.0)\n",
            "Requirement already satisfied: requests in /usr/local/lib/python3.11/dist-packages (from flask_ngrok) (2.32.3)\n",
            "Requirement already satisfied: Werkzeug>=3.1 in /usr/local/lib/python3.11/dist-packages (from Flask>=0.8->flask_ngrok) (3.1.3)\n",
            "Requirement already satisfied: Jinja2>=3.1.2 in /usr/local/lib/python3.11/dist-packages (from Flask>=0.8->flask_ngrok) (3.1.6)\n",
            "Requirement already satisfied: itsdangerous>=2.2 in /usr/local/lib/python3.11/dist-packages (from Flask>=0.8->flask_ngrok) (2.2.0)\n",
            "Requirement already satisfied: click>=8.1.3 in /usr/local/lib/python3.11/dist-packages (from Flask>=0.8->flask_ngrok) (8.1.8)\n",
            "Requirement already satisfied: blinker>=1.9 in /usr/local/lib/python3.11/dist-packages (from Flask>=0.8->flask_ngrok) (1.9.0)\n",
            "Requirement already satisfied: charset-normalizer<4,>=2 in /usr/local/lib/python3.11/dist-packages (from requests->flask_ngrok) (3.4.1)\n",
            "Requirement already satisfied: idna<4,>=2.5 in /usr/local/lib/python3.11/dist-packages (from requests->flask_ngrok) (3.10)\n",
            "Requirement already satisfied: urllib3<3,>=1.21.1 in /usr/local/lib/python3.11/dist-packages (from requests->flask_ngrok) (2.3.0)\n",
            "Requirement already satisfied: certifi>=2017.4.17 in /usr/local/lib/python3.11/dist-packages (from requests->flask_ngrok) (2025.1.31)\n",
            "Requirement already satisfied: MarkupSafe>=2.0 in /usr/local/lib/python3.11/dist-packages (from Jinja2>=3.1.2->Flask>=0.8->flask_ngrok) (3.0.2)\n",
            "Downloading flask_ngrok-0.0.25-py3-none-any.whl (3.1 kB)\n",
            "Installing collected packages: flask_ngrok\n",
            "Successfully installed flask_ngrok-0.0.25\n"
          ]
        }
      ]
    },
    {
      "cell_type": "code",
      "source": [
        "!pip install pyngrok"
      ],
      "metadata": {
        "colab": {
          "base_uri": "https://localhost:8080/"
        },
        "id": "10waLFzdxnkO",
        "outputId": "3759525e-74e4-4e08-d8ff-09065be2931f"
      },
      "execution_count": 37,
      "outputs": [
        {
          "output_type": "stream",
          "name": "stdout",
          "text": [
            "Requirement already satisfied: pyngrok in /usr/local/lib/python3.11/dist-packages (7.2.3)\n",
            "Requirement already satisfied: PyYAML>=5.1 in /usr/local/lib/python3.11/dist-packages (from pyngrok) (6.0.2)\n",
            "Authtoken saved to configuration file: /root/.config/ngrok/ngrok.yml\n"
          ]
        }
      ]
    },
    {
      "cell_type": "code",
      "source": [
        "!pip install flask-wtf"
      ],
      "metadata": {
        "colab": {
          "base_uri": "https://localhost:8080/"
        },
        "id": "gdFHlz9L1I0q",
        "outputId": "76206c3a-baa9-4d4f-c35b-190e016658a4"
      },
      "execution_count": 22,
      "outputs": [
        {
          "output_type": "stream",
          "name": "stdout",
          "text": [
            "Collecting flask-wtf\n",
            "  Downloading flask_wtf-1.2.2-py3-none-any.whl.metadata (3.4 kB)\n",
            "Requirement already satisfied: flask in /usr/local/lib/python3.11/dist-packages (from flask-wtf) (3.1.0)\n",
            "Requirement already satisfied: itsdangerous in /usr/local/lib/python3.11/dist-packages (from flask-wtf) (2.2.0)\n",
            "Collecting wtforms (from flask-wtf)\n",
            "  Downloading wtforms-3.2.1-py3-none-any.whl.metadata (5.3 kB)\n",
            "Requirement already satisfied: Werkzeug>=3.1 in /usr/local/lib/python3.11/dist-packages (from flask->flask-wtf) (3.1.3)\n",
            "Requirement already satisfied: Jinja2>=3.1.2 in /usr/local/lib/python3.11/dist-packages (from flask->flask-wtf) (3.1.6)\n",
            "Requirement already satisfied: click>=8.1.3 in /usr/local/lib/python3.11/dist-packages (from flask->flask-wtf) (8.1.8)\n",
            "Requirement already satisfied: blinker>=1.9 in /usr/local/lib/python3.11/dist-packages (from flask->flask-wtf) (1.9.0)\n",
            "Requirement already satisfied: markupsafe in /usr/local/lib/python3.11/dist-packages (from wtforms->flask-wtf) (3.0.2)\n",
            "Downloading flask_wtf-1.2.2-py3-none-any.whl (12 kB)\n",
            "Downloading wtforms-3.2.1-py3-none-any.whl (152 kB)\n",
            "\u001b[2K   \u001b[90m━━━━━━━━━━━━━━━━━━━━━━━━━━━━━━━━━━━━━━━━\u001b[0m \u001b[32m152.5/152.5 kB\u001b[0m \u001b[31m3.1 MB/s\u001b[0m eta \u001b[36m0:00:00\u001b[0m\n",
            "\u001b[?25hInstalling collected packages: wtforms, flask-wtf\n",
            "Successfully installed flask-wtf-1.2.2 wtforms-3.2.1\n"
          ]
        }
      ]
    },
    {
      "cell_type": "code",
      "source": [
        "'''\n",
        "Q1. How do you create a basic Flask application\n",
        "'''\n",
        "from flask import Flask\n",
        "from flask_ngrok import run_with_ngrok\n",
        "from threading import Thread\n",
        "\n",
        "app = Flask(__name__)\n",
        "\n",
        "@app.route('/')\n",
        "def home():\n",
        "    return \"Hello, Flask is running on Google Colab!\"\n",
        "\n",
        "def run():\n",
        "    app.run(host=\"0.0.0.0\", port=5000)\n",
        "\n",
        "# Run Flask in a separate thread\n",
        "thread = Thread(target=run)\n",
        "thread.start()\n",
        "\n"
      ],
      "metadata": {
        "colab": {
          "base_uri": "https://localhost:8080/"
        },
        "id": "CPktdSAftKS0",
        "outputId": "4f490eef-fc16-43fe-8596-52a77e44b1de"
      },
      "execution_count": 5,
      "outputs": [
        {
          "output_type": "stream",
          "name": "stdout",
          "text": [
            " * Serving Flask app '__main__'\n",
            " * Debug mode: off\n"
          ]
        },
        {
          "output_type": "stream",
          "name": "stderr",
          "text": [
            "INFO:werkzeug:\u001b[31m\u001b[1mWARNING: This is a development server. Do not use it in a production deployment. Use a production WSGI server instead.\u001b[0m\n",
            " * Running on all addresses (0.0.0.0)\n",
            " * Running on http://127.0.0.1:5000\n",
            " * Running on http://172.28.0.12:5000\n",
            "INFO:werkzeug:\u001b[33mPress CTRL+C to quit\u001b[0m\n"
          ]
        }
      ]
    },
    {
      "cell_type": "code",
      "source": [
        "'''\n",
        "Q2. How do you serve static files like images or CSS in Flask\n",
        "'''\n",
        "!mkdir -p static/css static/images\n",
        "\n",
        "from flask import Flask, send_from_directory\n",
        "from threading import Thread\n",
        "from pyngrok import ngrok\n",
        "import os\n",
        "\n",
        "app = Flask(__name__)\n",
        "\n",
        "# Route for homepage\n",
        "@app.route('/')\n",
        "def home():\n",
        "    return '''\n",
        "    <h1>Flask Static Files Example</h1>\n",
        "    <p>This is a simple page serving CSS and an image.</p>\n",
        "    <link rel=\"stylesheet\" type=\"text/css\" href=\"/static/css/style.css\">\n",
        "    <img src=\"/static/images/example.jpg\" width=\"300\">\n",
        "    '''\n",
        "\n",
        "# Run Flask in a separate thread\n",
        "def run():\n",
        "    app.run(host=\"0.0.0.0\", port=4000)\n",
        "\n",
        "thread = Thread(target=run)\n",
        "thread.start()\n"
      ],
      "metadata": {
        "colab": {
          "base_uri": "https://localhost:8080/"
        },
        "id": "A6-I5O38t9gg",
        "outputId": "cec2ecd5-e493-456b-fd21-ebe7a9fcb9be"
      },
      "execution_count": 10,
      "outputs": [
        {
          "output_type": "stream",
          "name": "stdout",
          "text": [
            " * Serving Flask app '__main__'\n",
            " * Debug mode: off\n"
          ]
        },
        {
          "output_type": "stream",
          "name": "stderr",
          "text": [
            "INFO:werkzeug:\u001b[31m\u001b[1mWARNING: This is a development server. Do not use it in a production deployment. Use a production WSGI server instead.\u001b[0m\n",
            " * Running on all addresses (0.0.0.0)\n",
            " * Running on http://127.0.0.1:4000\n",
            " * Running on http://172.28.0.12:4000\n",
            "INFO:werkzeug:\u001b[33mPress CTRL+C to quit\u001b[0m\n"
          ]
        }
      ]
    },
    {
      "cell_type": "code",
      "source": [
        "'''\n",
        "Q3. How do you define different routes with different HTTP methods in Flask\n",
        "'''\n",
        "from flask import Flask, request, jsonify\n",
        "from threading import Thread\n",
        "\n",
        "app = Flask(__name__)\n",
        "\n",
        "# GET request (fetch data)\n",
        "@app.route('/get-data', methods=['GET'])\n",
        "def get_data():\n",
        "    return jsonify({\"message\": \"This is a GET request!\"})\n",
        "\n",
        "# POST request (send data)\n",
        "@app.route('/post-data', methods=['POST'])\n",
        "def post_data():\n",
        "    data = request.json  # Get JSON data from request body\n",
        "    return jsonify({\"message\": \"Received data!\", \"data\": data})\n",
        "\n",
        "# PUT request (update data)\n",
        "@app.route('/update-data', methods=['PUT'])\n",
        "def update_data():\n",
        "    data = request.json\n",
        "    return jsonify({\"message\": \"Data updated!\", \"data\": data})\n",
        "\n",
        "# DELETE request (delete data)\n",
        "@app.route('/delete-data', methods=['DELETE'])\n",
        "def delete_data():\n",
        "    return jsonify({\"message\": \"Data deleted successfully!\"})\n",
        "\n",
        "# Function to run Flask in the background\n",
        "def run():\n",
        "    app.run(host=\"0.0.0.0\", port=1000)\n",
        "\n",
        "thread = Thread(target=run)\n",
        "thread.start()\n",
        "\n"
      ],
      "metadata": {
        "colab": {
          "base_uri": "https://localhost:8080/"
        },
        "id": "mdUY9VJnuGh3",
        "outputId": "174ee92d-ddc9-45b8-912e-feacd1c5da59"
      },
      "execution_count": 13,
      "outputs": [
        {
          "output_type": "stream",
          "name": "stdout",
          "text": [
            " * Serving Flask app '__main__'\n",
            " * Debug mode: off\n"
          ]
        },
        {
          "output_type": "stream",
          "name": "stderr",
          "text": [
            "INFO:werkzeug:\u001b[31m\u001b[1mWARNING: This is a development server. Do not use it in a production deployment. Use a production WSGI server instead.\u001b[0m\n",
            " * Running on all addresses (0.0.0.0)\n",
            " * Running on http://127.0.0.1:1000\n",
            " * Running on http://172.28.0.12:1000\n",
            "INFO:werkzeug:\u001b[33mPress CTRL+C to quit\u001b[0m\n"
          ]
        }
      ]
    },
    {
      "cell_type": "code",
      "source": [
        "'''\n",
        "Q4. How do you render HTML templates in Flask\n",
        "'''\n",
        "from flask import Flask, render_template\n",
        "from threading import Thread\n",
        "\n",
        "app = Flask(__name__)\n",
        "\n",
        "@app.route('/')\n",
        "def home():\n",
        "    return render_template('index.html')"
      ],
      "metadata": {
        "id": "Qs-yKEuEuN-K"
      },
      "execution_count": 15,
      "outputs": []
    },
    {
      "cell_type": "code",
      "source": [
        "'''\n",
        "Q5. How can you generate URLs for routes in Flask using url_for\n",
        "'''\n",
        "from flask import Flask, url_for, render_template\n",
        "from threading import Thread\n",
        "\n",
        "app = Flask(__name__)\n",
        "\n",
        "@app.route('/')\n",
        "def home():\n",
        "    home_url = url_for('home')\n",
        "    about_url = url_for('about')\n",
        "    return f'''\n",
        "        <h1>Welcome to Flask!</h1>\n",
        "        <p><a href=\"{about_url}\">Go to About Page</a></p>\n",
        "    '''\n",
        "\n",
        "@app.route('/about')\n",
        "def about():\n",
        "    return \"<h1>About Page</h1><p>This is the About section.</p>\"\n",
        "\n",
        "# Run Flask in a separate thread\n",
        "def run():\n",
        "    app.run(host=\"0.0.0.0\", port=2000)\n",
        "\n",
        "thread = Thread(target=run)\n",
        "thread.start()\n"
      ],
      "metadata": {
        "colab": {
          "base_uri": "https://localhost:8080/"
        },
        "id": "eyDfloMouVMH",
        "outputId": "90e1ef33-73e1-424c-8e7b-746edd4768bb"
      },
      "execution_count": 19,
      "outputs": [
        {
          "output_type": "stream",
          "name": "stdout",
          "text": [
            " * Serving Flask app '__main__'\n",
            " * Debug mode: off\n"
          ]
        },
        {
          "output_type": "stream",
          "name": "stderr",
          "text": [
            "INFO:werkzeug:\u001b[31m\u001b[1mWARNING: This is a development server. Do not use it in a production deployment. Use a production WSGI server instead.\u001b[0m\n",
            " * Running on all addresses (0.0.0.0)\n",
            " * Running on http://127.0.0.1:2000\n",
            " * Running on http://172.28.0.12:2000\n",
            "INFO:werkzeug:\u001b[33mPress CTRL+C to quit\u001b[0m\n"
          ]
        }
      ]
    },
    {
      "cell_type": "code",
      "source": [
        "'''\n",
        "Q6. How do you handle forms in Flask\n",
        "'''\n",
        "from flask import Flask, request, render_template\n",
        "from threading import Thread\n",
        "\n",
        "app = Flask(__name__)\n",
        "\n",
        "# Route to show form\n",
        "@app.route('/')\n",
        "def form():\n",
        "    return '''\n",
        "    <h1>Submit Your Name</h1>\n",
        "    <form action=\"/submit\" method=\"post\">\n",
        "        <input type=\"text\" name=\"name\" placeholder=\"Enter your name\" required>\n",
        "        <button type=\"submit\">Submit</button>\n",
        "    </form>\n",
        "    '''\n",
        "\n",
        "# Route to handle form submission\n",
        "@app.route('/submit', methods=['POST'])\n",
        "def submit():\n",
        "    name = request.form['name']\n",
        "    return f\"<h1>Hello, {name}!</h1>\"\n",
        "\n",
        "# Run Flask in a separate thread\n",
        "def run():\n",
        "    app.run(host=\"0.0.0.0\", port=100)\n",
        "\n",
        "thread = Thread(target=run)\n",
        "thread.start()\n"
      ],
      "metadata": {
        "colab": {
          "base_uri": "https://localhost:8080/"
        },
        "id": "MJ-QkNMrubOQ",
        "outputId": "997a10f7-120f-453e-a8cb-d263088405bc"
      },
      "execution_count": 21,
      "outputs": [
        {
          "output_type": "stream",
          "name": "stdout",
          "text": [
            " * Serving Flask app '__main__'\n",
            " * Debug mode: off\n"
          ]
        },
        {
          "output_type": "stream",
          "name": "stderr",
          "text": [
            "INFO:werkzeug:\u001b[31m\u001b[1mWARNING: This is a development server. Do not use it in a production deployment. Use a production WSGI server instead.\u001b[0m\n",
            " * Running on all addresses (0.0.0.0)\n",
            " * Running on http://127.0.0.1:100\n",
            " * Running on http://172.28.0.12:100\n",
            "INFO:werkzeug:\u001b[33mPress CTRL+C to quit\u001b[0m\n"
          ]
        }
      ]
    },
    {
      "cell_type": "code",
      "source": [
        "from pyngrok import ngrok\n",
        "!pkill -9 ngrok\n",
        "!ngrok authtoken 2vB1S1gGBcCIJpsLn62XOtBQr88_5QP4opQZcGm9g5HDB2xGd\n",
        "public_url = ngrok.connect(100).public_url\n",
        "print(f\"Public URL: {public_url}/user/John\")"
      ],
      "metadata": {
        "colab": {
          "base_uri": "https://localhost:8080/"
        },
        "id": "SyJIXCm-6ZNh",
        "outputId": "e0cfb1e9-8d8b-40b5-88cd-5a98c20acb2e"
      },
      "execution_count": 48,
      "outputs": [
        {
          "output_type": "stream",
          "name": "stdout",
          "text": [
            "Authtoken saved to configuration file: /root/.config/ngrok/ngrok.yml\n",
            "Public URL: https://83a8-34-106-209-113.ngrok-free.app/user/John\n"
          ]
        }
      ]
    },
    {
      "cell_type": "code",
      "source": [
        "'''\n",
        "Q7. How can you validate form data in Flask\n",
        "'''\n",
        "from flask import Flask, request, render_template\n",
        "from flask_wtf import FlaskForm\n",
        "from wtforms import StringField\n",
        "from wtforms.validators import DataRequired, Length\n",
        "from threading import Thread\n",
        "\n",
        "app = Flask(__name__)\n",
        "app.config['SECRET_KEY'] = 'supersecretkey'  # Required for Flask-WTF\n",
        "\n",
        "# Form Class\n",
        "class NameForm(FlaskForm):\n",
        "    name = StringField('Name', validators=[DataRequired(), Length(min=3, max=20)])\n",
        "\n",
        "# Route to show form\n",
        "@app.route('/', methods=['GET', 'POST'])\n",
        "def form():\n",
        "    form = NameForm()\n",
        "    if request.method == 'POST' and form.validate_on_submit():\n",
        "        name = form.name.data\n",
        "        return f\"<h1>Hello, {name}!</h1>\"\n",
        "    return '''\n",
        "    <h1>Enter Your Name</h1>\n",
        "    <form method=\"post\">\n",
        "        <input type=\"text\" name=\"name\" placeholder=\"Enter your name\" required>\n",
        "        <button type=\"submit\">Submit</button>\n",
        "    </form>\n",
        "    <p style=\"color:red;\">Invalid input! Name must be 3-20 characters.</p>\n",
        "    '''\n",
        "\n",
        "# Run Flask in a separate thread\n",
        "def run():\n",
        "    app.run(host=\"0.0.0.0\", port=200)\n",
        "\n",
        "thread = Thread(target=run)\n",
        "thread.start()\n"
      ],
      "metadata": {
        "colab": {
          "base_uri": "https://localhost:8080/"
        },
        "id": "IIWaRbyduhQW",
        "outputId": "91dc0c6c-a067-4115-dc36-dea480c10a3d"
      },
      "execution_count": 24,
      "outputs": [
        {
          "output_type": "stream",
          "name": "stdout",
          "text": [
            " * Serving Flask app '__main__'\n",
            " * Debug mode: off\n"
          ]
        },
        {
          "output_type": "stream",
          "name": "stderr",
          "text": [
            "INFO:werkzeug:\u001b[31m\u001b[1mWARNING: This is a development server. Do not use it in a production deployment. Use a production WSGI server instead.\u001b[0m\n",
            " * Running on all addresses (0.0.0.0)\n",
            " * Running on http://127.0.0.1:200\n",
            " * Running on http://172.28.0.12:200\n",
            "INFO:werkzeug:\u001b[33mPress CTRL+C to quit\u001b[0m\n"
          ]
        }
      ]
    },
    {
      "cell_type": "code",
      "source": [
        "from pyngrok import ngrok\n",
        "!pkill -9 ngrok\n",
        "!ngrok authtoken 2vB1S1gGBcCIJpsLn62XOtBQr88_5QP4opQZcGm9g5HDB2xGd\n",
        "public_url = ngrok.connect(200).public_url\n",
        "print(f\"Public URL: {public_url}/user/John\")"
      ],
      "metadata": {
        "colab": {
          "base_uri": "https://localhost:8080/"
        },
        "id": "_W5FNCs56Vug",
        "outputId": "2ee263c7-4561-487d-db10-767af55c1e99"
      },
      "execution_count": 47,
      "outputs": [
        {
          "output_type": "stream",
          "name": "stdout",
          "text": [
            "Authtoken saved to configuration file: /root/.config/ngrok/ngrok.yml\n",
            "Public URL: https://9ba9-34-106-209-113.ngrok-free.app/user/John\n"
          ]
        }
      ]
    },
    {
      "cell_type": "code",
      "source": [
        "'''\n",
        "Q8. How do you manage sessions in Flask\n",
        "'''\n",
        "from flask import Flask, session, request, redirect, url_for\n",
        "from threading import Thread\n",
        "\n",
        "app = Flask(__name__)\n",
        "app.config['SECRET_KEY'] = 'supersecretkey'  # Required for session security\n",
        "\n",
        "# Home route\n",
        "@app.route('/')\n",
        "def home():\n",
        "    if 'username' in session:\n",
        "        return f\"<h1>Welcome back, {session['username']}!</h1><a href='/logout'>Logout</a>\"\n",
        "    return '''\n",
        "    <h1>Login Page</h1>\n",
        "    <form method=\"post\" action=\"/login\">\n",
        "        <input type=\"text\" name=\"username\" placeholder=\"Enter your name\" required>\n",
        "        <button type=\"submit\">Login</button>\n",
        "    </form>\n",
        "    '''\n",
        "\n",
        "# Login route (sets session)\n",
        "@app.route('/login', methods=['POST'])\n",
        "def login():\n",
        "    session['username'] = request.form['username']\n",
        "    return redirect(url_for('home'))\n",
        "\n",
        "# Logout route (clears session)\n",
        "@app.route('/logout')\n",
        "def logout():\n",
        "    session.pop('username', None)\n",
        "    return redirect(url_for('home'))\n",
        "\n",
        "# Run Flask in a separate thread\n",
        "def run():\n",
        "    app.run(host=\"0.0.0.0\", port=300)\n",
        "\n",
        "thread = Thread(target=run)\n",
        "thread.start()\n"
      ],
      "metadata": {
        "colab": {
          "base_uri": "https://localhost:8080/"
        },
        "id": "UXY-h1qRuw-W",
        "outputId": "8923c123-afae-4deb-d352-505336e017a3"
      },
      "execution_count": 25,
      "outputs": [
        {
          "output_type": "stream",
          "name": "stdout",
          "text": [
            " * Serving Flask app '__main__'\n",
            " * Debug mode: off\n"
          ]
        },
        {
          "output_type": "stream",
          "name": "stderr",
          "text": [
            "INFO:werkzeug:\u001b[31m\u001b[1mWARNING: This is a development server. Do not use it in a production deployment. Use a production WSGI server instead.\u001b[0m\n",
            " * Running on all addresses (0.0.0.0)\n",
            " * Running on http://127.0.0.1:300\n",
            " * Running on http://172.28.0.12:300\n",
            "INFO:werkzeug:\u001b[33mPress CTRL+C to quit\u001b[0m\n"
          ]
        }
      ]
    },
    {
      "cell_type": "code",
      "source": [
        "from pyngrok import ngrok\n",
        "!pkill -9 ngrok\n",
        "!ngrok authtoken 2vB1S1gGBcCIJpsLn62XOtBQr88_5QP4opQZcGm9g5HDB2xGd\n",
        "public_url = ngrok.connect(300).public_url\n",
        "print(f\"Public URL: {public_url}/user/John\")"
      ],
      "metadata": {
        "colab": {
          "base_uri": "https://localhost:8080/"
        },
        "id": "fdJCr05N6SZB",
        "outputId": "873872d7-81c0-4003-cda7-f86fffbc293f"
      },
      "execution_count": 46,
      "outputs": [
        {
          "output_type": "stream",
          "name": "stdout",
          "text": [
            "Authtoken saved to configuration file: /root/.config/ngrok/ngrok.yml\n",
            "Public URL: https://8238-34-106-209-113.ngrok-free.app/user/John\n"
          ]
        }
      ]
    },
    {
      "cell_type": "code",
      "source": [
        "'''\n",
        "Q9. How do you redirect to a different route in Flask\n",
        "'''\n",
        "from flask import Flask, redirect, url_for\n",
        "from threading import Thread\n",
        "\n",
        "app = Flask(__name__)\n",
        "\n",
        "@app.route('/')\n",
        "def home():\n",
        "    return \"<h1>Home Page</h1><a href='/go-to-welcome'>Go to Welcome</a>\"\n",
        "\n",
        "@app.route('/go-to-welcome')\n",
        "def go_to_welcome():\n",
        "    return redirect(url_for('welcome'))  # Redirects to the 'welcome' route\n",
        "\n",
        "@app.route('/welcome')\n",
        "def welcome():\n",
        "    return \"<h1>Welcome Page</h1>\"\n",
        "\n",
        "# Run Flask in a separate thread\n",
        "def run():\n",
        "    app.run(host=\"0.0.0.0\", port=600)\n",
        "\n",
        "thread = Thread(target=run)\n",
        "thread.start()\n"
      ],
      "metadata": {
        "colab": {
          "base_uri": "https://localhost:8080/"
        },
        "id": "J9RSGM-zu4UO",
        "outputId": "2b585785-a5aa-4b02-9fa1-7753e228887d"
      },
      "execution_count": 27,
      "outputs": [
        {
          "output_type": "stream",
          "name": "stdout",
          "text": [
            " * Serving Flask app '__main__'\n",
            " * Debug mode: off\n"
          ]
        },
        {
          "output_type": "stream",
          "name": "stderr",
          "text": [
            "INFO:werkzeug:\u001b[31m\u001b[1mWARNING: This is a development server. Do not use it in a production deployment. Use a production WSGI server instead.\u001b[0m\n",
            " * Running on all addresses (0.0.0.0)\n",
            " * Running on http://127.0.0.1:600\n",
            " * Running on http://172.28.0.12:600\n",
            "INFO:werkzeug:\u001b[33mPress CTRL+C to quit\u001b[0m\n"
          ]
        }
      ]
    },
    {
      "cell_type": "code",
      "source": [
        "from pyngrok import ngrok\n",
        "!pkill -9 ngrok\n",
        "!ngrok authtoken 2vB1S1gGBcCIJpsLn62XOtBQr88_5QP4opQZcGm9g5HDB2xGd\n",
        "public_url = ngrok.connect(600).public_url\n",
        "print(f\"Public URL: {public_url}/user/John\")"
      ],
      "metadata": {
        "colab": {
          "base_uri": "https://localhost:8080/"
        },
        "id": "oMrE7WI16OFN",
        "outputId": "909f9a26-8b6b-49ac-cc64-28a83c8588ae"
      },
      "execution_count": 45,
      "outputs": [
        {
          "output_type": "stream",
          "name": "stdout",
          "text": [
            "Authtoken saved to configuration file: /root/.config/ngrok/ngrok.yml\n",
            "Public URL: https://3398-34-106-209-113.ngrok-free.app/user/John\n"
          ]
        }
      ]
    },
    {
      "cell_type": "code",
      "source": [
        "'''\n",
        "Q10. How do you handle errors in Flask (e.g., 404)\n",
        "'''\n",
        "from flask import Flask, render_template\n",
        "from threading import Thread\n",
        "\n",
        "app = Flask(__name__)\n",
        "\n",
        "@app.route('/')\n",
        "def home():\n",
        "    return \"<h1>Home Page</h1><p>Try visiting a non-existent page to see the 404 error.</p>\"\n",
        "\n",
        "# Handle 404 error (Page Not Found)\n",
        "@app.errorhandler(404)\n",
        "def page_not_found(e):\n",
        "    return \"<h1>404 - Page Not Found</h1><p>The page you are looking for does not exist.</p>\", 404\n",
        "\n",
        "# Handle 500 error (Internal Server Error)\n",
        "@app.errorhandler(500)\n",
        "def internal_server_error(e):\n",
        "    return \"<h1>500 - Internal Server Error</h1><p>Something went wrong.</p>\", 500\n",
        "\n",
        "# Run Flask in a separate thread\n",
        "def run():\n",
        "    app.run(host=\"0.0.0.0\", port=700)\n",
        "\n",
        "thread = Thread(target=run)\n",
        "thread.start()\n"
      ],
      "metadata": {
        "colab": {
          "base_uri": "https://localhost:8080/"
        },
        "id": "Fd88QTiQu-x7",
        "outputId": "b04b012d-fa78-4fa3-88bb-dace54d53b2c"
      },
      "execution_count": 28,
      "outputs": [
        {
          "output_type": "stream",
          "name": "stdout",
          "text": [
            " * Serving Flask app '__main__'\n",
            " * Debug mode: off\n"
          ]
        },
        {
          "output_type": "stream",
          "name": "stderr",
          "text": [
            "INFO:werkzeug:\u001b[31m\u001b[1mWARNING: This is a development server. Do not use it in a production deployment. Use a production WSGI server instead.\u001b[0m\n",
            " * Running on all addresses (0.0.0.0)\n",
            " * Running on http://127.0.0.1:700\n",
            " * Running on http://172.28.0.12:700\n",
            "INFO:werkzeug:\u001b[33mPress CTRL+C to quit\u001b[0m\n"
          ]
        }
      ]
    },
    {
      "cell_type": "code",
      "source": [
        "from pyngrok import ngrok\n",
        "!pkill -9 ngrok\n",
        "!ngrok authtoken 2vB1S1gGBcCIJpsLn62XOtBQr88_5QP4opQZcGm9g5HDB2xGd\n",
        "public_url = ngrok.connect(700).public_url\n",
        "print(f\"Public URL: {public_url}/user/John\")"
      ],
      "metadata": {
        "colab": {
          "base_uri": "https://localhost:8080/"
        },
        "id": "ufqWE4a56IBb",
        "outputId": "adaf3f7e-3d49-4789-ba23-43d497f0dfb0"
      },
      "execution_count": 44,
      "outputs": [
        {
          "output_type": "stream",
          "name": "stdout",
          "text": [
            "Authtoken saved to configuration file: /root/.config/ngrok/ngrok.yml\n",
            "Public URL: https://7d81-34-106-209-113.ngrok-free.app/user/John\n"
          ]
        }
      ]
    },
    {
      "cell_type": "code",
      "source": [
        "'''\n",
        "Q11. How do you structure a Flask app using Blueprints\n",
        "'''\n",
        "from flask import Flask, Blueprint\n",
        "from threading import Thread\n",
        "\n",
        "# Create Blueprint\n",
        "main_bp = Blueprint('main', __name__)\n",
        "\n",
        "@main_bp.route('/')\n",
        "def home():\n",
        "    return \"<h1>Welcome to Flask with Blueprints!</h1>\"\n",
        "\n",
        "@main_bp.route('/about')\n",
        "def about():\n",
        "    return \"<h1>About Page</h1>\"\n",
        "\n",
        "# Create Flask app and register Blueprint\n",
        "app = Flask(__name__)\n",
        "app.register_blueprint(main_bp)\n",
        "\n",
        "# Run Flask in a separate thread\n",
        "def run():\n",
        "    app.run(host=\"0.0.0.0\", port=10)\n",
        "\n",
        "thread = Thread(target=run)\n",
        "thread.start()\n"
      ],
      "metadata": {
        "colab": {
          "base_uri": "https://localhost:8080/"
        },
        "id": "HuRYw4fCvF1e",
        "outputId": "c7a96f39-e82f-4dfc-d143-4e868c6bdb56"
      },
      "execution_count": 29,
      "outputs": [
        {
          "output_type": "stream",
          "name": "stdout",
          "text": [
            " * Serving Flask app '__main__'\n",
            " * Debug mode: off\n"
          ]
        },
        {
          "output_type": "stream",
          "name": "stderr",
          "text": [
            "INFO:werkzeug:\u001b[31m\u001b[1mWARNING: This is a development server. Do not use it in a production deployment. Use a production WSGI server instead.\u001b[0m\n",
            " * Running on all addresses (0.0.0.0)\n",
            " * Running on http://127.0.0.1:10\n",
            " * Running on http://172.28.0.12:10\n",
            "INFO:werkzeug:\u001b[33mPress CTRL+C to quit\u001b[0m\n"
          ]
        }
      ]
    },
    {
      "cell_type": "code",
      "source": [
        "from pyngrok import ngrok\n",
        "!pkill -9 ngrok\n",
        "!ngrok authtoken 2vB1S1gGBcCIJpsLn62XOtBQr88_5QP4opQZcGm9g5HDB2xGd\n",
        "public_url = ngrok.connect(10).public_url\n",
        "print(f\"Public URL: {public_url}/user/John\")"
      ],
      "metadata": {
        "colab": {
          "base_uri": "https://localhost:8080/"
        },
        "id": "R5Vjm2826E3F",
        "outputId": "2cb7d6d6-44d1-45f7-8ee4-b608157e2247"
      },
      "execution_count": 43,
      "outputs": [
        {
          "output_type": "stream",
          "name": "stdout",
          "text": [
            "Authtoken saved to configuration file: /root/.config/ngrok/ngrok.yml\n",
            "Public URL: https://7bc7-34-106-209-113.ngrok-free.app/user/John\n"
          ]
        }
      ]
    },
    {
      "cell_type": "code",
      "source": [
        "'''\n",
        "Q12. How do you define a custom Jinja filter in Flask\n",
        "'''\n",
        "from flask import Flask, render_template_string\n",
        "from threading import Thread\n",
        "\n",
        "app = Flask(__name__)\n",
        "\n",
        "# Custom Jinja filter to reverse a string\n",
        "@app.template_filter('reverse')\n",
        "def reverse_filter(s):\n",
        "    return s[::-1]\n",
        "\n",
        "# Route to render template with custom filter\n",
        "@app.route('/')\n",
        "def home():\n",
        "    template = '''\n",
        "    <h1>Custom Jinja Filter</h1>\n",
        "    <p>Original: Hello Flask</p>\n",
        "    <p>Reversed: {{ \"Hello Flask\" | reverse }}</p>\n",
        "    '''\n",
        "    return render_template_string(template)\n",
        "\n",
        "# Run Flask in a separate thread\n",
        "def run():\n",
        "    app.run(host=\"0.0.0.0\", port=40)\n",
        "\n",
        "thread = Thread(target=run)\n",
        "thread.start()\n"
      ],
      "metadata": {
        "colab": {
          "base_uri": "https://localhost:8080/"
        },
        "id": "o_oeFeOuvNzF",
        "outputId": "29be4cb8-467a-4e43-b6df-a1dc17f515cd"
      },
      "execution_count": 30,
      "outputs": [
        {
          "output_type": "stream",
          "name": "stdout",
          "text": [
            " * Serving Flask app '__main__'\n",
            " * Debug mode: off\n"
          ]
        },
        {
          "output_type": "stream",
          "name": "stderr",
          "text": [
            "INFO:werkzeug:\u001b[31m\u001b[1mWARNING: This is a development server. Do not use it in a production deployment. Use a production WSGI server instead.\u001b[0m\n",
            " * Running on all addresses (0.0.0.0)\n",
            " * Running on http://127.0.0.1:40\n",
            " * Running on http://172.28.0.12:40\n",
            "INFO:werkzeug:\u001b[33mPress CTRL+C to quit\u001b[0m\n"
          ]
        }
      ]
    },
    {
      "cell_type": "code",
      "source": [
        "from pyngrok import ngrok\n",
        "!pkill -9 ngrok\n",
        "!ngrok authtoken 2vB1S1gGBcCIJpsLn62XOtBQr88_5QP4opQZcGm9g5HDB2xGd\n",
        "public_url = ngrok.connect(40).public_url\n",
        "print(f\"Public URL: {public_url}/user/John\")"
      ],
      "metadata": {
        "colab": {
          "base_uri": "https://localhost:8080/"
        },
        "id": "xVmzfEhO5_wX",
        "outputId": "0c419dcb-8663-455e-e873-36b8f5b4bed8"
      },
      "execution_count": 42,
      "outputs": [
        {
          "output_type": "stream",
          "name": "stdout",
          "text": [
            "Authtoken saved to configuration file: /root/.config/ngrok/ngrok.yml\n",
            "Public URL: https://2fcd-34-106-209-113.ngrok-free.app/user/John\n"
          ]
        }
      ]
    },
    {
      "cell_type": "code",
      "source": [
        "'''\n",
        "Q13. How can you redirect with query parameters in Flask\n",
        "'''\n",
        "from flask import Flask, redirect, url_for, request\n",
        "from threading import Thread\n",
        "\n",
        "app = Flask(__name__)\n",
        "\n",
        "@app.route('/')\n",
        "def home():\n",
        "    return \"<h1>Home Page</h1><a href='/redirect-me?name=John'>Go to Greet</a>\"\n",
        "\n",
        "@app.route('/redirect-me')\n",
        "def redirect_me():\n",
        "    name = request.args.get('name', 'Guest')\n",
        "    return redirect(url_for('greet', name=name))  # Redirect with query parameter\n",
        "\n",
        "@app.route('/greet')\n",
        "def greet():\n",
        "    name = request.args.get('name', 'Guest')\n",
        "    return f\"<h1>Hello, {name}!</h1>\"\n",
        "\n",
        "# Run Flask in a separate thread\n",
        "def run():\n",
        "    app.run(host=\"0.0.0.0\", port=20)\n",
        "\n",
        "thread = Thread(target=run)\n",
        "thread.start()\n"
      ],
      "metadata": {
        "colab": {
          "base_uri": "https://localhost:8080/"
        },
        "id": "KmVTN6BbvVH_",
        "outputId": "fa74d408-7cb8-4fe6-a84a-d2c94bf884de"
      },
      "execution_count": 31,
      "outputs": [
        {
          "output_type": "stream",
          "name": "stdout",
          "text": [
            " * Serving Flask app '__main__'\n",
            " * Debug mode: off\n"
          ]
        },
        {
          "output_type": "stream",
          "name": "stderr",
          "text": [
            "INFO:werkzeug:\u001b[31m\u001b[1mWARNING: This is a development server. Do not use it in a production deployment. Use a production WSGI server instead.\u001b[0m\n",
            " * Running on all addresses (0.0.0.0)\n",
            " * Running on http://127.0.0.1:20\n",
            " * Running on http://172.28.0.12:20\n",
            "INFO:werkzeug:\u001b[33mPress CTRL+C to quit\u001b[0m\n"
          ]
        }
      ]
    },
    {
      "cell_type": "code",
      "source": [
        "from pyngrok import ngrok\n",
        "!pkill -9 ngrok\n",
        "!ngrok authtoken 2vB1S1gGBcCIJpsLn62XOtBQr88_5QP4opQZcGm9g5HDB2xGd\n",
        "public_url = ngrok.connect(20).public_url\n",
        "print(f\"Public URL: {public_url}/user/John\")"
      ],
      "metadata": {
        "colab": {
          "base_uri": "https://localhost:8080/"
        },
        "id": "kqbEo2lo58MZ",
        "outputId": "5ae51d82-c357-470b-ea07-7ac37e65a0a4"
      },
      "execution_count": 41,
      "outputs": [
        {
          "output_type": "stream",
          "name": "stdout",
          "text": [
            "Authtoken saved to configuration file: /root/.config/ngrok/ngrok.yml\n",
            "Public URL: https://9cf2-34-106-209-113.ngrok-free.app/user/John\n"
          ]
        }
      ]
    },
    {
      "cell_type": "code",
      "source": [
        "'''\n",
        "Q14. How do you return JSON responses in Flask\n",
        "'''\n",
        "from flask import Flask, jsonify\n",
        "from threading import Thread\n",
        "\n",
        "app = Flask(__name__)\n",
        "\n",
        "@app.route('/api/data')\n",
        "def get_data():\n",
        "    data = {\"message\": \"Hello, Flask!\", \"status\": \"success\"}\n",
        "    return jsonify(data)  # Returns JSON response\n",
        "\n",
        "# Run Flask in a separate thread\n",
        "def run():\n",
        "    app.run(host=\"0.0.0.0\", port=60)\n",
        "\n",
        "thread = Thread(target=run)\n",
        "thread.start()\n"
      ],
      "metadata": {
        "colab": {
          "base_uri": "https://localhost:8080/"
        },
        "id": "1skBE9tHvbV3",
        "outputId": "519ba15c-c413-4104-fb48-1c271a4c9782"
      },
      "execution_count": 32,
      "outputs": [
        {
          "output_type": "stream",
          "name": "stdout",
          "text": [
            " * Serving Flask app '__main__'\n",
            " * Debug mode: off\n"
          ]
        },
        {
          "output_type": "stream",
          "name": "stderr",
          "text": [
            "INFO:werkzeug:\u001b[31m\u001b[1mWARNING: This is a development server. Do not use it in a production deployment. Use a production WSGI server instead.\u001b[0m\n",
            " * Running on all addresses (0.0.0.0)\n",
            " * Running on http://127.0.0.1:60\n",
            " * Running on http://172.28.0.12:60\n",
            "INFO:werkzeug:\u001b[33mPress CTRL+C to quit\u001b[0m\n"
          ]
        }
      ]
    },
    {
      "cell_type": "code",
      "source": [
        "from pyngrok import ngrok\n",
        "!pkill -9 ngrok\n",
        "!ngrok authtoken 2vB1S1gGBcCIJpsLn62XOtBQr88_5QP4opQZcGm9g5HDB2xGd\n",
        "public_url = ngrok.connect(60).public_url\n",
        "print(f\"Public URL: {public_url}/user/John\")\n"
      ],
      "metadata": {
        "colab": {
          "base_uri": "https://localhost:8080/"
        },
        "id": "DDAoORCU5iC-",
        "outputId": "ca920638-4018-4790-e2f5-3affee8816e4"
      },
      "execution_count": 40,
      "outputs": [
        {
          "output_type": "stream",
          "name": "stdout",
          "text": [
            "Authtoken saved to configuration file: /root/.config/ngrok/ngrok.yml\n",
            "Public URL: https://aec1-34-106-209-113.ngrok-free.app/user/John\n"
          ]
        }
      ]
    },
    {
      "cell_type": "code",
      "source": [
        "'''\n",
        "Q15. How do you capture URL parameters in Flask?\n",
        "'''\n",
        "from flask import Flask\n",
        "from threading import Thread\n",
        "\n",
        "app = Flask(__name__)\n",
        "\n",
        "@app.route('/user/<name>')  # Capture 'name' from URL\n",
        "def greet_user(name):\n",
        "    return f\"<h1>Hello, {name}!</h1>\"\n",
        "\n",
        "# Run Flask in a separate thread\n",
        "def run():\n",
        "    app.run(host=\"0.0.0.0\", port=90)\n",
        "\n",
        "thread = Thread(target=run)\n",
        "thread.start()\n"
      ],
      "metadata": {
        "colab": {
          "base_uri": "https://localhost:8080/"
        },
        "id": "UXjAAkGtvhfK",
        "outputId": "2d5f9274-7629-4946-8f40-ff4995210397"
      },
      "execution_count": 33,
      "outputs": [
        {
          "output_type": "stream",
          "name": "stdout",
          "text": [
            " * Serving Flask app '__main__'\n",
            " * Debug mode: off\n"
          ]
        },
        {
          "output_type": "stream",
          "name": "stderr",
          "text": [
            "INFO:werkzeug:\u001b[31m\u001b[1mWARNING: This is a development server. Do not use it in a production deployment. Use a production WSGI server instead.\u001b[0m\n",
            " * Running on all addresses (0.0.0.0)\n",
            " * Running on http://127.0.0.1:90\n",
            " * Running on http://172.28.0.12:90\n",
            "INFO:werkzeug:\u001b[33mPress CTRL+C to quit\u001b[0m\n"
          ]
        }
      ]
    },
    {
      "cell_type": "code",
      "source": [
        "from pyngrok import ngrok\n",
        "!pkill -9 ngrok\n",
        "public_url = ngrok.connect(90).public_url\n",
        "print(f\"Public URL: {public_url}/user/John\")\n"
      ],
      "metadata": {
        "colab": {
          "base_uri": "https://localhost:8080/"
        },
        "id": "N_Sdxxqg3A-h",
        "outputId": "0ce36b88-d3d1-442a-d9e5-e9edab13c183"
      },
      "execution_count": 38,
      "outputs": [
        {
          "output_type": "stream",
          "name": "stdout",
          "text": [
            "Public URL: https://38f4-34-106-209-113.ngrok-free.app/user/John\n"
          ]
        }
      ]
    },
    {
      "cell_type": "code",
      "source": [],
      "metadata": {
        "id": "Nd6r0YFQ3FyA"
      },
      "execution_count": null,
      "outputs": []
    }
  ]
}